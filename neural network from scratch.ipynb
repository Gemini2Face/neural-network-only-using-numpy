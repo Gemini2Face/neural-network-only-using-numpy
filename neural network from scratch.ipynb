{
 "cells": [
  {
   "cell_type": "code",
   "execution_count": 29,
   "id": "initial_id",
   "metadata": {
    "collapsed": true,
    "ExecuteTime": {
     "end_time": "2024-05-09T18:24:48.834285200Z",
     "start_time": "2024-05-09T18:24:48.818271500Z"
    }
   },
   "outputs": [],
   "source": [
    "import numpy as np\n",
    "import  pandas as pd\n",
    "from matplotlib import pyplot as plt\n",
    "import tensorflow as tf"
   ]
  },
  {
   "cell_type": "code",
   "execution_count": 30,
   "outputs": [],
   "source": [
    "data = pd.read_csv('mnist_train.csv')"
   ],
   "metadata": {
    "collapsed": false,
    "ExecuteTime": {
     "end_time": "2024-05-09T18:24:50.350751200Z",
     "start_time": "2024-05-09T18:24:48.823275Z"
    }
   },
   "id": "9ddcdff86820a2f9"
  },
  {
   "cell_type": "code",
   "execution_count": 31,
   "outputs": [
    {
     "data": {
      "text/plain": "   label  1x1  1x2  1x3  1x4  1x5  1x6  1x7  1x8  1x9  ...  28x19  28x20  \\\n0      5    0    0    0    0    0    0    0    0    0  ...      0      0   \n1      0    0    0    0    0    0    0    0    0    0  ...      0      0   \n2      4    0    0    0    0    0    0    0    0    0  ...      0      0   \n3      1    0    0    0    0    0    0    0    0    0  ...      0      0   \n4      9    0    0    0    0    0    0    0    0    0  ...      0      0   \n\n   28x21  28x22  28x23  28x24  28x25  28x26  28x27  28x28  \n0      0      0      0      0      0      0      0      0  \n1      0      0      0      0      0      0      0      0  \n2      0      0      0      0      0      0      0      0  \n3      0      0      0      0      0      0      0      0  \n4      0      0      0      0      0      0      0      0  \n\n[5 rows x 785 columns]",
      "text/html": "<div>\n<style scoped>\n    .dataframe tbody tr th:only-of-type {\n        vertical-align: middle;\n    }\n\n    .dataframe tbody tr th {\n        vertical-align: top;\n    }\n\n    .dataframe thead th {\n        text-align: right;\n    }\n</style>\n<table border=\"1\" class=\"dataframe\">\n  <thead>\n    <tr style=\"text-align: right;\">\n      <th></th>\n      <th>label</th>\n      <th>1x1</th>\n      <th>1x2</th>\n      <th>1x3</th>\n      <th>1x4</th>\n      <th>1x5</th>\n      <th>1x6</th>\n      <th>1x7</th>\n      <th>1x8</th>\n      <th>1x9</th>\n      <th>...</th>\n      <th>28x19</th>\n      <th>28x20</th>\n      <th>28x21</th>\n      <th>28x22</th>\n      <th>28x23</th>\n      <th>28x24</th>\n      <th>28x25</th>\n      <th>28x26</th>\n      <th>28x27</th>\n      <th>28x28</th>\n    </tr>\n  </thead>\n  <tbody>\n    <tr>\n      <th>0</th>\n      <td>5</td>\n      <td>0</td>\n      <td>0</td>\n      <td>0</td>\n      <td>0</td>\n      <td>0</td>\n      <td>0</td>\n      <td>0</td>\n      <td>0</td>\n      <td>0</td>\n      <td>...</td>\n      <td>0</td>\n      <td>0</td>\n      <td>0</td>\n      <td>0</td>\n      <td>0</td>\n      <td>0</td>\n      <td>0</td>\n      <td>0</td>\n      <td>0</td>\n      <td>0</td>\n    </tr>\n    <tr>\n      <th>1</th>\n      <td>0</td>\n      <td>0</td>\n      <td>0</td>\n      <td>0</td>\n      <td>0</td>\n      <td>0</td>\n      <td>0</td>\n      <td>0</td>\n      <td>0</td>\n      <td>0</td>\n      <td>...</td>\n      <td>0</td>\n      <td>0</td>\n      <td>0</td>\n      <td>0</td>\n      <td>0</td>\n      <td>0</td>\n      <td>0</td>\n      <td>0</td>\n      <td>0</td>\n      <td>0</td>\n    </tr>\n    <tr>\n      <th>2</th>\n      <td>4</td>\n      <td>0</td>\n      <td>0</td>\n      <td>0</td>\n      <td>0</td>\n      <td>0</td>\n      <td>0</td>\n      <td>0</td>\n      <td>0</td>\n      <td>0</td>\n      <td>...</td>\n      <td>0</td>\n      <td>0</td>\n      <td>0</td>\n      <td>0</td>\n      <td>0</td>\n      <td>0</td>\n      <td>0</td>\n      <td>0</td>\n      <td>0</td>\n      <td>0</td>\n    </tr>\n    <tr>\n      <th>3</th>\n      <td>1</td>\n      <td>0</td>\n      <td>0</td>\n      <td>0</td>\n      <td>0</td>\n      <td>0</td>\n      <td>0</td>\n      <td>0</td>\n      <td>0</td>\n      <td>0</td>\n      <td>...</td>\n      <td>0</td>\n      <td>0</td>\n      <td>0</td>\n      <td>0</td>\n      <td>0</td>\n      <td>0</td>\n      <td>0</td>\n      <td>0</td>\n      <td>0</td>\n      <td>0</td>\n    </tr>\n    <tr>\n      <th>4</th>\n      <td>9</td>\n      <td>0</td>\n      <td>0</td>\n      <td>0</td>\n      <td>0</td>\n      <td>0</td>\n      <td>0</td>\n      <td>0</td>\n      <td>0</td>\n      <td>0</td>\n      <td>...</td>\n      <td>0</td>\n      <td>0</td>\n      <td>0</td>\n      <td>0</td>\n      <td>0</td>\n      <td>0</td>\n      <td>0</td>\n      <td>0</td>\n      <td>0</td>\n      <td>0</td>\n    </tr>\n  </tbody>\n</table>\n<p>5 rows × 785 columns</p>\n</div>"
     },
     "execution_count": 31,
     "metadata": {},
     "output_type": "execute_result"
    }
   ],
   "source": [
    "data.head()"
   ],
   "metadata": {
    "collapsed": false,
    "ExecuteTime": {
     "end_time": "2024-05-09T18:24:50.363327100Z",
     "start_time": "2024-05-09T18:24:50.356352900Z"
    }
   },
   "id": "f8d46bd97917427e"
  },
  {
   "cell_type": "code",
   "execution_count": 32,
   "outputs": [],
   "source": [
    "data = np.array(data)\n",
    "m, n = data.shape\n",
    "np.random.shuffle(data) # shuffle before splitting into dev and training sets\n",
    "\n",
    "data_dev = data[0:1000].T\n",
    "Y_dev = data_dev[0]\n",
    "X_dev = data_dev[1:n]\n",
    "X_dev = X_dev / 255.\n",
    "\n",
    "data_train = data[1000:m].T\n",
    "Y_train = data_train[0]\n",
    "X_train = data_train[1:n]\n",
    "X_train = X_train / 255.\n",
    "_,m_train = X_train.shape"
   ],
   "metadata": {
    "collapsed": false,
    "ExecuteTime": {
     "end_time": "2024-05-09T18:24:51.713907600Z",
     "start_time": "2024-05-09T18:24:50.362333400Z"
    }
   },
   "id": "e940b5ce4eb84790"
  },
  {
   "cell_type": "code",
   "execution_count": 33,
   "outputs": [],
   "source": [
    "def init_params():\n",
    "    W1 = np.random.rand(10, 784) - 0.5\n",
    "    b1 = np.random.rand(10, 1) - 0.5\n",
    "    W2 = np.random.rand(10, 10) - 0.5\n",
    "    b2 = np.random.rand(10, 1) - 0.5\n",
    "    return W1, b1, W2, b2\n",
    "\n",
    "def ReLU(Z):\n",
    "    return np.maximum(Z, 0)\n",
    "\n",
    "def softmax(Z):\n",
    "    A = np.exp(Z) / sum(np.exp(Z))\n",
    "    return A\n",
    "    \n",
    "def forward_prop(W1, b1, W2, b2, X):\n",
    "    Z1 = W1.dot(X) + b1\n",
    "    A1 = ReLU(Z1)\n",
    "    Z2 = W2.dot(A1) + b2\n",
    "    A2 = softmax(Z2)\n",
    "    return Z1, A1, Z2, A2\n",
    "\n",
    "def ReLU_deriv(Z):\n",
    "    return Z > 0\n",
    "\n",
    "def one_hot(Y):\n",
    "    one_hot_Y = np.zeros((Y.size, Y.max() + 1))\n",
    "    one_hot_Y[np.arange(Y.size), Y] = 1\n",
    "    one_hot_Y = one_hot_Y.T\n",
    "    return one_hot_Y\n",
    "\n",
    "def backward_prop(Z1, A1, Z2, A2, W1, W2, X, Y):\n",
    "    one_hot_Y = one_hot(Y)\n",
    "    dZ2 = A2 - one_hot_Y\n",
    "    dW2 = 1 / m * dZ2.dot(A1.T)\n",
    "    db2 = 1 / m * np.sum(dZ2)\n",
    "    dZ1 = W2.T.dot(dZ2) * ReLU_deriv(Z1)\n",
    "    dW1 = 1 / m * dZ1.dot(X.T)\n",
    "    db1 = 1 / m * np.sum(dZ1)\n",
    "    return dW1, db1, dW2, db2\n",
    "\n",
    "def update_params(W1, b1, W2, b2, dW1, db1, dW2, db2, alpha):\n",
    "    W1 = W1 - alpha * dW1\n",
    "    b1 = b1 - alpha * db1    \n",
    "    W2 = W2 - alpha * dW2  \n",
    "    b2 = b2 - alpha * db2    \n",
    "    return W1, b1, W2, b2"
   ],
   "metadata": {
    "collapsed": false,
    "ExecuteTime": {
     "end_time": "2024-05-09T18:24:51.720376700Z",
     "start_time": "2024-05-09T18:24:51.719315400Z"
    }
   },
   "id": "5296aca468b16663"
  },
  {
   "cell_type": "code",
   "execution_count": 34,
   "outputs": [],
   "source": [
    "def get_predictions(A2):\n",
    "    return np.argmax(A2, 0)\n",
    "\n",
    "def get_accuracy(predictions, Y):\n",
    "    print(predictions, Y)\n",
    "    return np.sum(predictions == Y) / Y.size\n",
    "\n",
    "def gradient_descent(X, Y, alpha, iterations):\n",
    "    W1, b1, W2, b2 = init_params()\n",
    "    for i in range(iterations):\n",
    "        Z1, A1, Z2, A2 = forward_prop(W1, b1, W2, b2, X)\n",
    "        dW1, db1, dW2, db2 = backward_prop(Z1, A1, Z2, A2, W1, W2, X, Y)\n",
    "        W1, b1, W2, b2 = update_params(W1, b1, W2, b2, dW1, db1, dW2, db2, alpha)\n",
    "        if i % 10 == 0:\n",
    "            print(\"Iteration: \", i)\n",
    "            predictions = get_predictions(A2)\n",
    "            print(get_accuracy(predictions, Y))\n",
    "    return W1, b1, W2, b2"
   ],
   "metadata": {
    "collapsed": false,
    "ExecuteTime": {
     "end_time": "2024-05-09T18:24:51.727618600Z",
     "start_time": "2024-05-09T18:24:51.723368900Z"
    }
   },
   "id": "60e5f3ae831788c3"
  },
  {
   "cell_type": "code",
   "execution_count": 36,
   "outputs": [
    {
     "name": "stdout",
     "output_type": "stream",
     "text": [
      "Iteration:  0\n",
      "[3 3 5 ... 3 4 3] [1 0 7 ... 3 5 5]\n",
      "0.08420338983050847\n",
      "Iteration:  10\n",
      "[3 5 5 ... 3 4 9] [1 0 7 ... 3 5 5]\n",
      "0.12783050847457628\n",
      "Iteration:  20\n",
      "[3 5 5 ... 3 3 9] [1 0 7 ... 3 5 5]\n",
      "0.18394915254237287\n",
      "Iteration:  30\n",
      "[3 5 5 ... 3 3 9] [1 0 7 ... 3 5 5]\n",
      "0.24677966101694915\n",
      "Iteration:  40\n",
      "[3 5 5 ... 3 0 9] [1 0 7 ... 3 5 5]\n",
      "0.2883220338983051\n",
      "Iteration:  50\n",
      "[3 5 5 ... 3 6 9] [1 0 7 ... 3 5 5]\n",
      "0.32864406779661015\n",
      "Iteration:  60\n",
      "[3 0 5 ... 3 5 9] [1 0 7 ... 3 5 5]\n",
      "0.3747457627118644\n",
      "Iteration:  70\n",
      "[1 0 5 ... 3 5 9] [1 0 7 ... 3 5 5]\n",
      "0.4328813559322034\n",
      "Iteration:  80\n",
      "[1 0 9 ... 3 5 9] [1 0 7 ... 3 5 5]\n",
      "0.4845593220338983\n",
      "Iteration:  90\n",
      "[1 0 2 ... 3 2 9] [1 0 7 ... 3 5 5]\n",
      "0.5283389830508475\n",
      "Iteration:  100\n",
      "[1 0 9 ... 3 2 9] [1 0 7 ... 3 5 5]\n",
      "0.567677966101695\n",
      "Iteration:  110\n",
      "[1 0 9 ... 5 2 9] [1 0 7 ... 3 5 5]\n",
      "0.6007457627118644\n",
      "Iteration:  120\n",
      "[1 0 9 ... 5 2 9] [1 0 7 ... 3 5 5]\n",
      "0.6286440677966102\n",
      "Iteration:  130\n",
      "[1 0 9 ... 5 2 9] [1 0 7 ... 3 5 5]\n",
      "0.6529322033898305\n",
      "Iteration:  140\n",
      "[1 0 9 ... 5 2 9] [1 0 7 ... 3 5 5]\n",
      "0.672271186440678\n",
      "Iteration:  150\n",
      "[1 0 9 ... 5 2 9] [1 0 7 ... 3 5 5]\n",
      "0.6889661016949152\n",
      "Iteration:  160\n",
      "[1 0 9 ... 5 2 9] [1 0 7 ... 3 5 5]\n",
      "0.7035762711864407\n",
      "Iteration:  170\n",
      "[1 0 9 ... 5 2 9] [1 0 7 ... 3 5 5]\n",
      "0.7170169491525423\n",
      "Iteration:  180\n",
      "[1 0 9 ... 5 2 9] [1 0 7 ... 3 5 5]\n",
      "0.7285084745762712\n",
      "Iteration:  190\n",
      "[1 0 9 ... 5 8 9] [1 0 7 ... 3 5 5]\n",
      "0.7382203389830508\n",
      "Iteration:  200\n",
      "[1 0 9 ... 5 8 9] [1 0 7 ... 3 5 5]\n",
      "0.7476610169491525\n",
      "Iteration:  210\n",
      "[1 0 9 ... 8 8 9] [1 0 7 ... 3 5 5]\n",
      "0.7570677966101695\n",
      "Iteration:  220\n",
      "[1 0 9 ... 8 8 9] [1 0 7 ... 3 5 5]\n",
      "0.7647118644067796\n",
      "Iteration:  230\n",
      "[1 0 9 ... 8 8 9] [1 0 7 ... 3 5 5]\n",
      "0.7717627118644068\n",
      "Iteration:  240\n",
      "[1 0 9 ... 8 8 9] [1 0 7 ... 3 5 5]\n",
      "0.7777796610169492\n",
      "Iteration:  250\n",
      "[1 0 9 ... 8 8 9] [1 0 7 ... 3 5 5]\n",
      "0.7840169491525424\n",
      "Iteration:  260\n",
      "[1 0 9 ... 8 8 9] [1 0 7 ... 3 5 5]\n",
      "0.7891186440677966\n",
      "Iteration:  270\n",
      "[1 0 9 ... 8 8 5] [1 0 7 ... 3 5 5]\n",
      "0.794135593220339\n",
      "Iteration:  280\n",
      "[1 0 9 ... 8 8 5] [1 0 7 ... 3 5 5]\n",
      "0.7991186440677966\n",
      "Iteration:  290\n",
      "[1 0 9 ... 8 8 5] [1 0 7 ... 3 5 5]\n",
      "0.8032372881355933\n",
      "Iteration:  300\n",
      "[1 0 9 ... 8 8 5] [1 0 7 ... 3 5 5]\n",
      "0.807135593220339\n",
      "Iteration:  310\n",
      "[1 0 9 ... 8 8 5] [1 0 7 ... 3 5 5]\n",
      "0.8107627118644067\n",
      "Iteration:  320\n",
      "[1 0 9 ... 8 8 5] [1 0 7 ... 3 5 5]\n",
      "0.8137796610169492\n",
      "Iteration:  330\n",
      "[1 0 9 ... 8 8 5] [1 0 7 ... 3 5 5]\n",
      "0.8170338983050848\n",
      "Iteration:  340\n",
      "[1 0 9 ... 8 8 5] [1 0 7 ... 3 5 5]\n",
      "0.8199830508474576\n",
      "Iteration:  350\n",
      "[1 0 9 ... 8 8 5] [1 0 7 ... 3 5 5]\n",
      "0.8229661016949152\n",
      "Iteration:  360\n",
      "[1 0 9 ... 8 8 5] [1 0 7 ... 3 5 5]\n",
      "0.8254915254237288\n",
      "Iteration:  370\n",
      "[1 0 9 ... 8 8 5] [1 0 7 ... 3 5 5]\n",
      "0.8283389830508474\n",
      "Iteration:  380\n",
      "[1 0 9 ... 8 8 5] [1 0 7 ... 3 5 5]\n",
      "0.8306101694915254\n",
      "Iteration:  390\n",
      "[1 0 9 ... 8 8 5] [1 0 7 ... 3 5 5]\n",
      "0.8325932203389831\n",
      "Iteration:  400\n",
      "[1 0 9 ... 8 8 5] [1 0 7 ... 3 5 5]\n",
      "0.8347796610169491\n",
      "Iteration:  410\n",
      "[1 0 9 ... 8 8 5] [1 0 7 ... 3 5 5]\n",
      "0.8365254237288136\n",
      "Iteration:  420\n",
      "[1 0 9 ... 8 8 5] [1 0 7 ... 3 5 5]\n",
      "0.838457627118644\n",
      "Iteration:  430\n",
      "[1 0 9 ... 8 8 5] [1 0 7 ... 3 5 5]\n",
      "0.840271186440678\n",
      "Iteration:  440\n",
      "[1 0 9 ... 8 8 5] [1 0 7 ... 3 5 5]\n",
      "0.8420508474576271\n",
      "Iteration:  450\n",
      "[1 0 9 ... 8 8 5] [1 0 7 ... 3 5 5]\n",
      "0.8435932203389831\n",
      "Iteration:  460\n",
      "[1 0 9 ... 8 8 5] [1 0 7 ... 3 5 5]\n",
      "0.8453220338983051\n",
      "Iteration:  470\n",
      "[1 0 9 ... 8 8 5] [1 0 7 ... 3 5 5]\n",
      "0.8467288135593221\n",
      "Iteration:  480\n",
      "[1 0 9 ... 8 8 5] [1 0 7 ... 3 5 5]\n",
      "0.848406779661017\n",
      "Iteration:  490\n",
      "[1 0 9 ... 8 8 5] [1 0 7 ... 3 5 5]\n",
      "0.85\n"
     ]
    }
   ],
   "source": [
    "W1, b1, W2, b2 = gradient_descent(X_train, Y_train, 0.10, 500)"
   ],
   "metadata": {
    "collapsed": false,
    "ExecuteTime": {
     "end_time": "2024-05-09T18:25:34.559234500Z",
     "start_time": "2024-05-09T18:25:06.959370Z"
    }
   },
   "id": "b9430e907bbd16c6"
  },
  {
   "cell_type": "code",
   "execution_count": 37,
   "outputs": [],
   "source": [
    "def make_predictions(X, W1, b1, W2, b2):\n",
    "    _, _, _, A2 = forward_prop(W1, b1, W2, b2, X)\n",
    "    predictions = get_predictions(A2)\n",
    "    return predictions\n",
    "\n",
    "def test_prediction(index, W1, b1, W2, b2):\n",
    "    current_image = X_train[:, index, None]\n",
    "    prediction = make_predictions(X_train[:, index, None], W1, b1, W2, b2)\n",
    "    label = Y_train[index]\n",
    "    print(\"Prediction: \", prediction)\n",
    "    print(\"Label: \", label)\n",
    "    \n",
    "    current_image = current_image.reshape((28, 28)) * 255\n",
    "    plt.gray()\n",
    "    plt.imshow(current_image, interpolation='nearest')\n",
    "    plt.show()"
   ],
   "metadata": {
    "collapsed": false,
    "ExecuteTime": {
     "end_time": "2024-05-09T18:25:44.375038700Z",
     "start_time": "2024-05-09T18:25:44.360981500Z"
    }
   },
   "id": "e0ec4484d402dc4e"
  },
  {
   "cell_type": "code",
   "execution_count": 38,
   "outputs": [
    {
     "name": "stdout",
     "output_type": "stream",
     "text": [
      "Prediction:  [1]\n",
      "Label:  1\n"
     ]
    },
    {
     "data": {
      "text/plain": "<Figure size 640x480 with 1 Axes>",
      "image/png": "[encoded data removed]"
     },
     "metadata": {},
     "output_type": "display_data"
    },
    {
     "name": "stdout",
     "output_type": "stream",
     "text": [
      "Prediction:  [0]\n",
      "Label:  0\n"
     ]
    },
    {
     "data": {
      "text/plain": "<Figure size 640x480 with 1 Axes>",
      "image/png": "[encoded data removed]"
     },
     "metadata": {},
     "output_type": "display_data"
    },
    {
     "name": "stdout",
     "output_type": "stream",
     "text": [
      "Prediction:  [9]\n",
      "Label:  7\n"
     ]
    },
    {
     "data": {
      "text/plain": "<Figure size 640x480 with 1 Axes>",
      "image/png": "[encoded data removed]"
     },
     "metadata": {},
     "output_type": "display_data"
    },
    {
     "name": "stdout",
     "output_type": "stream",
     "text": [
      "Prediction:  [1]\n",
      "Label:  1\n"
     ]
    },
    {
     "data": {
      "text/plain": "<Figure size 640x480 with 1 Axes>",
      "image/png": "[encoded data removed]"
     },
     "metadata": {},
     "output_type": "display_data"
    }
   ],
   "source": [
    "test_prediction(0, W1, b1, W2, b2)\n",
    "test_prediction(1, W1, b1, W2, b2)\n",
    "test_prediction(2, W1, b1, W2, b2)\n",
    "test_prediction(3, W1, b1, W2, b2)"
   ],
   "metadata": {
    "collapsed": false,
    "ExecuteTime": {
     "end_time": "2024-05-09T18:25:52.200636300Z",
     "start_time": "2024-05-09T18:25:51.860201200Z"
    }
   },
   "id": "2935d8e75a1ceb79"
  },
  {
   "cell_type": "code",
   "execution_count": null,
   "outputs": [],
   "source": [],
   "metadata": {
    "collapsed": false
   },
   "id": "525e7a33f68102a0"
  }
 ],
 "metadata": {
  "kernelspec": {
   "display_name": "Python 3",
   "language": "python",
   "name": "python3"
  },
  "language_info": {
   "codemirror_mode": {
    "name": "ipython",
    "version": 2
   },
   "file_extension": ".py",
   "mimetype": "text/x-python",
   "name": "python",
   "nbconvert_exporter": "python",
   "pygments_lexer": "ipython2",
   "version": "2.7.6"
  }
 },
 "nbformat": 4,
 "nbformat_minor": 5
}
